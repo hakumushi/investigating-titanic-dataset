{
 "cells": [
  {
   "cell_type": "markdown",
   "metadata": {},
   "source": [
    "# Titanic"
   ]
  },
  {
   "cell_type": "markdown",
   "metadata": {},
   "source": [
    "1. Conjunto de dados escolhidos: Dados do Titanic.\n",
    "2. Perguntas:\n",
    "    1. Existe relação entre o sexo da pessoa e a sobrevivência?\n",
    "    2. Existe relação entre a classe e a sobrevivência?\n",
    "    3. E a relação Classe x Sexo x Sobrevivência?\n",
    "    4. Há relação entre Idade x Sobrevivência?\n",
    "    5. Qual a relação entre Idade, Sobrevivência e Sexo?\n",
    "    6. O lugar onde as pessoas embarcaram tem alguma influência?\n",
    "    7. Qual a relação entre Tarifa e Sobrevivência?\n",
    "3. Descrição de como foi respondido: Utilizando queries.\n",
    "4. Limpeza: \n",
    "    1. Foi removida a coluna Cabin, pois não era útil para análise e tinha um grande número de items nulos.\n",
    "    2. Foram removidas linhas com itens nulos.\n",
    "5. Gráficos: Podem ser encontrados abaixo.\n",
    "6. Consultas: https://matplotlib.org/gallery/statistics/barchart_demo.html"
   ]
  },
  {
   "cell_type": "code",
   "execution_count": 125,
   "metadata": {},
   "outputs": [],
   "source": [
    "import pandas as pd\n",
    "import matplotlib.pyplot as plt\n",
    "import numpy as np\n",
    "% matplotlib inline\n",
    "import seaborn as sns\n",
    "sns.set_style('darkgrid')\n",
    "\n",
    "\n",
    "df = pd.read_csv(\"titanic-data-6.csv\")"
   ]
  },
  {
   "cell_type": "markdown",
   "metadata": {},
   "source": [
    "## Verificação dos dados"
   ]
  },
  {
   "cell_type": "code",
   "execution_count": 126,
   "metadata": {},
   "outputs": [
    {
     "data": {
      "text/html": [
       "<div>\n",
       "<style scoped>\n",
       "    .dataframe tbody tr th:only-of-type {\n",
       "        vertical-align: middle;\n",
       "    }\n",
       "\n",
       "    .dataframe tbody tr th {\n",
       "        vertical-align: top;\n",
       "    }\n",
       "\n",
       "    .dataframe thead th {\n",
       "        text-align: right;\n",
       "    }\n",
       "</style>\n",
       "<table border=\"1\" class=\"dataframe\">\n",
       "  <thead>\n",
       "    <tr style=\"text-align: right;\">\n",
       "      <th></th>\n",
       "      <th>PassengerId</th>\n",
       "      <th>Survived</th>\n",
       "      <th>Pclass</th>\n",
       "      <th>Name</th>\n",
       "      <th>Sex</th>\n",
       "      <th>Age</th>\n",
       "      <th>SibSp</th>\n",
       "      <th>Parch</th>\n",
       "      <th>Ticket</th>\n",
       "      <th>Fare</th>\n",
       "      <th>Cabin</th>\n",
       "      <th>Embarked</th>\n",
       "    </tr>\n",
       "  </thead>\n",
       "  <tbody>\n",
       "    <tr>\n",
       "      <th>0</th>\n",
       "      <td>1</td>\n",
       "      <td>0</td>\n",
       "      <td>3</td>\n",
       "      <td>Braund, Mr. Owen Harris</td>\n",
       "      <td>male</td>\n",
       "      <td>22.0</td>\n",
       "      <td>1</td>\n",
       "      <td>0</td>\n",
       "      <td>A/5 21171</td>\n",
       "      <td>7.2500</td>\n",
       "      <td>NaN</td>\n",
       "      <td>S</td>\n",
       "    </tr>\n",
       "    <tr>\n",
       "      <th>1</th>\n",
       "      <td>2</td>\n",
       "      <td>1</td>\n",
       "      <td>1</td>\n",
       "      <td>Cumings, Mrs. John Bradley (Florence Briggs Th...</td>\n",
       "      <td>female</td>\n",
       "      <td>38.0</td>\n",
       "      <td>1</td>\n",
       "      <td>0</td>\n",
       "      <td>PC 17599</td>\n",
       "      <td>71.2833</td>\n",
       "      <td>C85</td>\n",
       "      <td>C</td>\n",
       "    </tr>\n",
       "    <tr>\n",
       "      <th>2</th>\n",
       "      <td>3</td>\n",
       "      <td>1</td>\n",
       "      <td>3</td>\n",
       "      <td>Heikkinen, Miss. Laina</td>\n",
       "      <td>female</td>\n",
       "      <td>26.0</td>\n",
       "      <td>0</td>\n",
       "      <td>0</td>\n",
       "      <td>STON/O2. 3101282</td>\n",
       "      <td>7.9250</td>\n",
       "      <td>NaN</td>\n",
       "      <td>S</td>\n",
       "    </tr>\n",
       "    <tr>\n",
       "      <th>3</th>\n",
       "      <td>4</td>\n",
       "      <td>1</td>\n",
       "      <td>1</td>\n",
       "      <td>Futrelle, Mrs. Jacques Heath (Lily May Peel)</td>\n",
       "      <td>female</td>\n",
       "      <td>35.0</td>\n",
       "      <td>1</td>\n",
       "      <td>0</td>\n",
       "      <td>113803</td>\n",
       "      <td>53.1000</td>\n",
       "      <td>C123</td>\n",
       "      <td>S</td>\n",
       "    </tr>\n",
       "    <tr>\n",
       "      <th>4</th>\n",
       "      <td>5</td>\n",
       "      <td>0</td>\n",
       "      <td>3</td>\n",
       "      <td>Allen, Mr. William Henry</td>\n",
       "      <td>male</td>\n",
       "      <td>35.0</td>\n",
       "      <td>0</td>\n",
       "      <td>0</td>\n",
       "      <td>373450</td>\n",
       "      <td>8.0500</td>\n",
       "      <td>NaN</td>\n",
       "      <td>S</td>\n",
       "    </tr>\n",
       "  </tbody>\n",
       "</table>\n",
       "</div>"
      ],
      "text/plain": [
       "   PassengerId  Survived  Pclass  \\\n",
       "0            1         0       3   \n",
       "1            2         1       1   \n",
       "2            3         1       3   \n",
       "3            4         1       1   \n",
       "4            5         0       3   \n",
       "\n",
       "                                                Name     Sex   Age  SibSp  \\\n",
       "0                            Braund, Mr. Owen Harris    male  22.0      1   \n",
       "1  Cumings, Mrs. John Bradley (Florence Briggs Th...  female  38.0      1   \n",
       "2                             Heikkinen, Miss. Laina  female  26.0      0   \n",
       "3       Futrelle, Mrs. Jacques Heath (Lily May Peel)  female  35.0      1   \n",
       "4                           Allen, Mr. William Henry    male  35.0      0   \n",
       "\n",
       "   Parch            Ticket     Fare Cabin Embarked  \n",
       "0      0         A/5 21171   7.2500   NaN        S  \n",
       "1      0          PC 17599  71.2833   C85        C  \n",
       "2      0  STON/O2. 3101282   7.9250   NaN        S  \n",
       "3      0            113803  53.1000  C123        S  \n",
       "4      0            373450   8.0500   NaN        S  "
      ]
     },
     "execution_count": 126,
     "metadata": {},
     "output_type": "execute_result"
    }
   ],
   "source": [
    "df.head()"
   ]
  },
  {
   "cell_type": "code",
   "execution_count": 127,
   "metadata": {},
   "outputs": [
    {
     "name": "stdout",
     "output_type": "stream",
     "text": [
      "<class 'pandas.core.frame.DataFrame'>\n",
      "RangeIndex: 891 entries, 0 to 890\n",
      "Data columns (total 12 columns):\n",
      "PassengerId    891 non-null int64\n",
      "Survived       891 non-null int64\n",
      "Pclass         891 non-null int64\n",
      "Name           891 non-null object\n",
      "Sex            891 non-null object\n",
      "Age            714 non-null float64\n",
      "SibSp          891 non-null int64\n",
      "Parch          891 non-null int64\n",
      "Ticket         891 non-null object\n",
      "Fare           891 non-null float64\n",
      "Cabin          204 non-null object\n",
      "Embarked       889 non-null object\n",
      "dtypes: float64(2), int64(5), object(5)\n",
      "memory usage: 83.6+ KB\n"
     ]
    }
   ],
   "source": [
    "df.info()"
   ]
  },
  {
   "cell_type": "markdown",
   "metadata": {},
   "source": [
    "## Preparação e limpeza dos dados"
   ]
  },
  {
   "cell_type": "markdown",
   "metadata": {},
   "source": [
    "### Removendo a coluna Cabin"
   ]
  },
  {
   "cell_type": "code",
   "execution_count": 128,
   "metadata": {},
   "outputs": [],
   "source": [
    "df.drop(['Cabin'], axis=1, inplace=True)"
   ]
  },
  {
   "cell_type": "markdown",
   "metadata": {},
   "source": [
    "### Limpando dados nulos"
   ]
  },
  {
   "cell_type": "code",
   "execution_count": 129,
   "metadata": {},
   "outputs": [],
   "source": [
    "df.dropna(inplace=True)"
   ]
  },
  {
   "cell_type": "markdown",
   "metadata": {},
   "source": [
    "### Renomeando as colunas"
   ]
  },
  {
   "cell_type": "code",
   "execution_count": 130,
   "metadata": {},
   "outputs": [],
   "source": [
    "df.rename(columns=lambda x: x.strip().lower(), inplace=True)"
   ]
  },
  {
   "cell_type": "markdown",
   "metadata": {},
   "source": [
    "### Verificando dados após preparo"
   ]
  },
  {
   "cell_type": "code",
   "execution_count": 131,
   "metadata": {},
   "outputs": [
    {
     "data": {
      "text/plain": [
       "False"
      ]
     },
     "execution_count": 131,
     "metadata": {},
     "output_type": "execute_result"
    }
   ],
   "source": [
    "df.isnull().sum().any()"
   ]
  },
  {
   "cell_type": "code",
   "execution_count": 132,
   "metadata": {},
   "outputs": [
    {
     "data": {
      "text/plain": [
       "False"
      ]
     },
     "execution_count": 132,
     "metadata": {},
     "output_type": "execute_result"
    }
   ],
   "source": [
    "df.duplicated().any()"
   ]
  },
  {
   "cell_type": "code",
   "execution_count": 133,
   "metadata": {},
   "outputs": [
    {
     "data": {
      "text/plain": [
       "(712, 11)"
      ]
     },
     "execution_count": 133,
     "metadata": {},
     "output_type": "execute_result"
    }
   ],
   "source": [
    "df.shape"
   ]
  },
  {
   "cell_type": "code",
   "execution_count": 134,
   "metadata": {},
   "outputs": [
    {
     "data": {
      "text/html": [
       "<div>\n",
       "<style scoped>\n",
       "    .dataframe tbody tr th:only-of-type {\n",
       "        vertical-align: middle;\n",
       "    }\n",
       "\n",
       "    .dataframe tbody tr th {\n",
       "        vertical-align: top;\n",
       "    }\n",
       "\n",
       "    .dataframe thead th {\n",
       "        text-align: right;\n",
       "    }\n",
       "</style>\n",
       "<table border=\"1\" class=\"dataframe\">\n",
       "  <thead>\n",
       "    <tr style=\"text-align: right;\">\n",
       "      <th></th>\n",
       "      <th>passengerid</th>\n",
       "      <th>survived</th>\n",
       "      <th>pclass</th>\n",
       "      <th>name</th>\n",
       "      <th>sex</th>\n",
       "      <th>age</th>\n",
       "      <th>sibsp</th>\n",
       "      <th>parch</th>\n",
       "      <th>ticket</th>\n",
       "      <th>fare</th>\n",
       "      <th>embarked</th>\n",
       "    </tr>\n",
       "  </thead>\n",
       "  <tbody>\n",
       "    <tr>\n",
       "      <th>0</th>\n",
       "      <td>1</td>\n",
       "      <td>0</td>\n",
       "      <td>3</td>\n",
       "      <td>Braund, Mr. Owen Harris</td>\n",
       "      <td>male</td>\n",
       "      <td>22.0</td>\n",
       "      <td>1</td>\n",
       "      <td>0</td>\n",
       "      <td>A/5 21171</td>\n",
       "      <td>7.2500</td>\n",
       "      <td>S</td>\n",
       "    </tr>\n",
       "    <tr>\n",
       "      <th>1</th>\n",
       "      <td>2</td>\n",
       "      <td>1</td>\n",
       "      <td>1</td>\n",
       "      <td>Cumings, Mrs. John Bradley (Florence Briggs Th...</td>\n",
       "      <td>female</td>\n",
       "      <td>38.0</td>\n",
       "      <td>1</td>\n",
       "      <td>0</td>\n",
       "      <td>PC 17599</td>\n",
       "      <td>71.2833</td>\n",
       "      <td>C</td>\n",
       "    </tr>\n",
       "    <tr>\n",
       "      <th>2</th>\n",
       "      <td>3</td>\n",
       "      <td>1</td>\n",
       "      <td>3</td>\n",
       "      <td>Heikkinen, Miss. Laina</td>\n",
       "      <td>female</td>\n",
       "      <td>26.0</td>\n",
       "      <td>0</td>\n",
       "      <td>0</td>\n",
       "      <td>STON/O2. 3101282</td>\n",
       "      <td>7.9250</td>\n",
       "      <td>S</td>\n",
       "    </tr>\n",
       "    <tr>\n",
       "      <th>3</th>\n",
       "      <td>4</td>\n",
       "      <td>1</td>\n",
       "      <td>1</td>\n",
       "      <td>Futrelle, Mrs. Jacques Heath (Lily May Peel)</td>\n",
       "      <td>female</td>\n",
       "      <td>35.0</td>\n",
       "      <td>1</td>\n",
       "      <td>0</td>\n",
       "      <td>113803</td>\n",
       "      <td>53.1000</td>\n",
       "      <td>S</td>\n",
       "    </tr>\n",
       "    <tr>\n",
       "      <th>4</th>\n",
       "      <td>5</td>\n",
       "      <td>0</td>\n",
       "      <td>3</td>\n",
       "      <td>Allen, Mr. William Henry</td>\n",
       "      <td>male</td>\n",
       "      <td>35.0</td>\n",
       "      <td>0</td>\n",
       "      <td>0</td>\n",
       "      <td>373450</td>\n",
       "      <td>8.0500</td>\n",
       "      <td>S</td>\n",
       "    </tr>\n",
       "  </tbody>\n",
       "</table>\n",
       "</div>"
      ],
      "text/plain": [
       "   passengerid  survived  pclass  \\\n",
       "0            1         0       3   \n",
       "1            2         1       1   \n",
       "2            3         1       3   \n",
       "3            4         1       1   \n",
       "4            5         0       3   \n",
       "\n",
       "                                                name     sex   age  sibsp  \\\n",
       "0                            Braund, Mr. Owen Harris    male  22.0      1   \n",
       "1  Cumings, Mrs. John Bradley (Florence Briggs Th...  female  38.0      1   \n",
       "2                             Heikkinen, Miss. Laina  female  26.0      0   \n",
       "3       Futrelle, Mrs. Jacques Heath (Lily May Peel)  female  35.0      1   \n",
       "4                           Allen, Mr. William Henry    male  35.0      0   \n",
       "\n",
       "   parch            ticket     fare embarked  \n",
       "0      0         A/5 21171   7.2500        S  \n",
       "1      0          PC 17599  71.2833        C  \n",
       "2      0  STON/O2. 3101282   7.9250        S  \n",
       "3      0            113803  53.1000        S  \n",
       "4      0            373450   8.0500        S  "
      ]
     },
     "execution_count": 134,
     "metadata": {},
     "output_type": "execute_result"
    }
   ],
   "source": [
    "df.head()"
   ]
  },
  {
   "cell_type": "markdown",
   "metadata": {},
   "source": [
    "## Funções de apoio"
   ]
  },
  {
   "cell_type": "markdown",
   "metadata": {},
   "source": [
    "### Plot"
   ]
  },
  {
   "cell_type": "code",
   "execution_count": 135,
   "metadata": {},
   "outputs": [],
   "source": [
    "# Escolhendo o tamanho dos gráficos\n",
    "plt.rcParams['figure.figsize'] = 10, 5"
   ]
  },
  {
   "cell_type": "code",
   "execution_count": 136,
   "metadata": {},
   "outputs": [],
   "source": [
    "def plot_bar(bar_one, bar_two, label_one, label_two, xticks_labels, title, y_label):\n",
    "    \"\"\"\n",
    "    Função que plota um gráfico de barra\n",
    "    Argumentos:\n",
    "        bar_one: Lista com items que aparecem nas barras da direita.\n",
    "        bar_two: Lista com items que aparecem nas barras da direita.\n",
    "        label_one: Legenda da barra da direita.\n",
    "        label_two: Legenda da barra da esquerda.\n",
    "        xticks_labels: Lista com nomes das colunas.\n",
    "        title: Título do gráfico.\n",
    "        y_label: Rótulo do eixo y.\n",
    "    \"\"\"\n",
    "    ind = np.arange(len(bar_one))\n",
    "    width = 0.35 \n",
    "    fig, ax = plt.subplots()\n",
    "    ax.bar(ind, bar_one, width, color='r', label=label_one)\n",
    "    ax.bar(ind + width, bar_two, width, color='b', label=label_two)\n",
    "    ax.set_ylabel(y_label)\n",
    "    ax.set_xticks(ind + width / 2)\n",
    "    ax.set_xticklabels(xticks_labels)\n",
    "    ax.set_title(title)\n",
    "    fig.tight_layout()\n",
    "    ax.legend()"
   ]
  },
  {
   "cell_type": "code",
   "execution_count": 137,
   "metadata": {},
   "outputs": [],
   "source": [
    "def plot_line(line, xticks, title, y_label):\n",
    "    \"\"\"\n",
    "    Função que plota um gráfico de linha\n",
    "    Argumentos:\n",
    "        line: Lista com items que aparecem na linha.\n",
    "        xticks: Lista com nomes das colunas.\n",
    "        title: Título do gráfico.\n",
    "        y_label: Rótulo do eixo y.\n",
    "    \"\"\"\n",
    "    fig, ax = plt.subplots()\n",
    "    ax.plot(xticks, line)\n",
    "    ax.set_ylabel(y_label)\n",
    "    ax.set_title(title)\n",
    "    fig.tight_layout()"
   ]
  },
  {
   "cell_type": "markdown",
   "metadata": {},
   "source": [
    "## Análise"
   ]
  },
  {
   "cell_type": "markdown",
   "metadata": {},
   "source": [
    "### Existe relação entre o sexo da pessoa e a sobrevivência?"
   ]
  },
  {
   "cell_type": "code",
   "execution_count": 138,
   "metadata": {},
   "outputs": [
    {
     "name": "stdout",
     "output_type": "stream",
     "text": [
      "Total de homens: 453 Homens sobreviventes: 93\n"
     ]
    }
   ],
   "source": [
    "males = df.query('sex == \"male\"')['sex'].count()\n",
    "males_survived = df.query('sex == \"male\" and survived == 1')['sex'].count()\n",
    "\n",
    "print(\"Total de homens: {} Homens sobreviventes: {}\".format(males, males_survived))"
   ]
  },
  {
   "cell_type": "code",
   "execution_count": 139,
   "metadata": {},
   "outputs": [
    {
     "name": "stdout",
     "output_type": "stream",
     "text": [
      "Total de mulheres: 259 Mulheres sobreviventes: 195\n"
     ]
    }
   ],
   "source": [
    "females = df.query('sex == \"female\"')['sex'].count()\n",
    "females_survived = df.query('sex == \"female\" and survived == 1')['sex'].count()\n",
    "\n",
    "print(\"Total de mulheres: {} Mulheres sobreviventes: {}\".format(females, females_survived))"
   ]
  },
  {
   "cell_type": "code",
   "execution_count": 140,
   "metadata": {},
   "outputs": [
    {
     "data": {
      "image/png": "[encoded data removed]",
      "text/plain": [
       "<Figure size 720x360 with 1 Axes>"
      ]
     },
     "metadata": {},
     "output_type": "display_data"
    }
   ],
   "source": [
    "bar_one = [males, females]\n",
    "bar_two = [males_survived, females_survived]\n",
    "xticks_labels = ('Homens', 'Mulheres')\n",
    "plot_bar(bar_one, bar_two, 'Total', 'Sobreviventes', xticks_labels, 'Sexo x Sobrevivência', 'Pessoas')"
   ]
  },
  {
   "cell_type": "markdown",
   "metadata": {},
   "source": [
    "**R- Sim, como podemos ver no gráfico acima as mulheres tiveram uma maior taxa de sobrevivência do que os homens.**"
   ]
  },
  {
   "cell_type": "markdown",
   "metadata": {},
   "source": [
    "### Existe relação entre a classe e a sobrevivência?"
   ]
  },
  {
   "cell_type": "code",
   "execution_count": 141,
   "metadata": {},
   "outputs": [
    {
     "name": "stdout",
     "output_type": "stream",
     "text": [
      "Total de pessoas na primeira classe: 184\n",
      "Total de sobreviventes na primeira classe: 120\n"
     ]
    }
   ],
   "source": [
    "df_first_class = df.query('pclass == 1')\n",
    "first_class = df_first_class[\"pclass\"].count()\n",
    "df_first_class_survived = df_first_class.query('survived == 1')\n",
    "first_class_survived = df_first_class_survived[\"pclass\"].count()\n",
    "\n",
    "print(\"Total de pessoas na primeira classe: {}\\nTotal de sobreviventes na primeira classe: {}\".format(first_class, first_class_survived))"
   ]
  },
  {
   "cell_type": "code",
   "execution_count": 142,
   "metadata": {},
   "outputs": [
    {
     "name": "stdout",
     "output_type": "stream",
     "text": [
      "Total de pessoas na segunda classe: 173\n",
      "Total de sobreviventes na segunda classe: 83\n"
     ]
    }
   ],
   "source": [
    "df_second_class = df.query('pclass == 2')\n",
    "second_class = df_second_class['pclass'].count()\n",
    "df_second_class_survived = df_second_class.query('survived == 1')\n",
    "second_class_survived = df_second_class_survived['pclass'].count()\n",
    "\n",
    "print(\"Total de pessoas na segunda classe: {}\\nTotal de sobreviventes na segunda classe: {}\".format(second_class, second_class_survived))"
   ]
  },
  {
   "cell_type": "code",
   "execution_count": 143,
   "metadata": {},
   "outputs": [
    {
     "name": "stdout",
     "output_type": "stream",
     "text": [
      "Total de pessoas na terceira classe: 355\n",
      "Total de sobreviventes na terceira classe: 85\n"
     ]
    }
   ],
   "source": [
    "df_third_class = df.query('pclass == 3')\n",
    "third_class = df_third_class['pclass'].count()\n",
    "df_third_class_survived = df_third_class.query('survived == 1')\n",
    "third_class_survived = df_third_class_survived['pclass'].count()\n",
    "\n",
    "print(\"Total de pessoas na terceira classe: {}\\nTotal de sobreviventes na terceira classe: {}\".format(third_class, third_class_survived))"
   ]
  },
  {
   "cell_type": "code",
   "execution_count": 144,
   "metadata": {},
   "outputs": [
    {
     "data": {
      "image/png": "[encoded data removed]",
      "text/plain": [
       "<Figure size 720x360 with 1 Axes>"
      ]
     },
     "metadata": {},
     "output_type": "display_data"
    }
   ],
   "source": [
    "bar_one = [first_class, second_class, third_class]\n",
    "bar_two = [first_class_survived, second_class_survived, third_class_survived]\n",
    "xticks_labels = ['1º Classe', '2º Classe', '3º Classe']\n",
    "plot_bar(bar_one, bar_two, 'Total', 'Sobreviventes', xticks_labels, 'Classe x Sobrevivência', 'Pessoas')"
   ]
  },
  {
   "cell_type": "markdown",
   "metadata": {},
   "source": [
    "**R- Sim, a taxa de sobrevivência acompanha as classes, crescendo da terceira para primeira classe. A taxa de sobrevivência da terceira classe é menor d que 30%, pois das 355 pessoas que embarcaram apenas 85 sobreviveram.**"
   ]
  },
  {
   "cell_type": "markdown",
   "metadata": {},
   "source": [
    "### E a relação Classe x Sexo x Sobrevivência?"
   ]
  },
  {
   "cell_type": "code",
   "execution_count": 145,
   "metadata": {},
   "outputs": [
    {
     "name": "stdout",
     "output_type": "stream",
     "text": [
      "Homens na primeira classe: 101\n",
      "Homens sobreviventes na primeira classe: 40\n"
     ]
    }
   ],
   "source": [
    "df_first_class_male = df_first_class.query('sex == \"male\"')\n",
    "first_class_male = df_first_class_male['sex'].count()\n",
    "df_first_class_survived_male = df_first_class_survived.query('sex == \"male\"')\n",
    "first_class_survived_male = df_first_class_survived_male['sex'].count()\n",
    "\n",
    "print(\"Homens na primeira classe: {}\\nHomens sobreviventes na primeira classe: {}\".format(first_class_male, first_class_survived_male))"
   ]
  },
  {
   "cell_type": "code",
   "execution_count": 146,
   "metadata": {},
   "outputs": [
    {
     "name": "stdout",
     "output_type": "stream",
     "text": [
      "Mulheres na primeira classe: 83\n",
      "Mulheres sobreviventes na primeira classe: 80\n"
     ]
    }
   ],
   "source": [
    "df_first_class_female = df_first_class.query('sex == \"female\"')\n",
    "first_class_female = df_first_class_female['sex'].count()\n",
    "df_first_class_survived_female = df_first_class_survived.query('sex == \"female\"')\n",
    "first_class_survived_female = df_first_class_survived_female['sex'].count()\n",
    "\n",
    "print(\"Mulheres na primeira classe: {}\\nMulheres sobreviventes na primeira classe: {}\".format(first_class_female, first_class_survived_female))"
   ]
  },
  {
   "cell_type": "code",
   "execution_count": 147,
   "metadata": {},
   "outputs": [
    {
     "name": "stdout",
     "output_type": "stream",
     "text": [
      "Homens na segunda classe: 99\n",
      "Homens sobreviventes na segunda classe: 15\n"
     ]
    }
   ],
   "source": [
    "df_second_class_male = df_second_class.query('sex == \"male\"')\n",
    "second_class_male = df_second_class_male['sex'].count()\n",
    "df_second_class_survived_male = df_second_class_survived.query('sex == \"male\"')\n",
    "second_class_survived_male = df_second_class_survived_male['sex'].count()\n",
    "\n",
    "print(\"Homens na segunda classe: {}\\nHomens sobreviventes na segunda classe: {}\".format(second_class_male, second_class_survived_male))"
   ]
  },
  {
   "cell_type": "code",
   "execution_count": 148,
   "metadata": {},
   "outputs": [
    {
     "name": "stdout",
     "output_type": "stream",
     "text": [
      "Mulheres na segunda classe: 74\n",
      "Mulheres sobreviventes na segunda classe: 68\n"
     ]
    }
   ],
   "source": [
    "df_second_class_female = df_second_class.query('sex == \"female\"')\n",
    "second_class_female = df_second_class_female['sex'].count()\n",
    "df_second_class_survived_female = df_second_class_survived.query('sex == \"female\"')\n",
    "second_class_survived_female = df_second_class_survived_female['sex'].count()\n",
    "\n",
    "print(\"Mulheres na segunda classe: {}\\nMulheres sobreviventes na segunda classe: {}\".format(second_class_female, second_class_survived_female))"
   ]
  },
  {
   "cell_type": "code",
   "execution_count": 149,
   "metadata": {},
   "outputs": [
    {
     "name": "stdout",
     "output_type": "stream",
     "text": [
      "Homens na terceira classe: 253\n",
      "Homens sobreviventes na segunda classe: 38\n"
     ]
    }
   ],
   "source": [
    "df_third_class_male = df_third_class.query('sex == \"male\"')\n",
    "third_class_male = df_third_class_male['sex'].count()\n",
    "df_third_class_survived_male = df_third_class_survived.query('sex == \"male\"')\n",
    "third_class_survived_male = df_third_class_survived_male['sex'].count()\n",
    "\n",
    "print(\"Homens na terceira classe: {}\\nHomens sobreviventes na segunda classe: {}\".format(third_class_male, third_class_survived_male))"
   ]
  },
  {
   "cell_type": "code",
   "execution_count": 150,
   "metadata": {},
   "outputs": [
    {
     "name": "stdout",
     "output_type": "stream",
     "text": [
      "Mulheres na terceira classe: 102\n",
      "Mulheres sobreviventes terceira na classe: 47\n"
     ]
    }
   ],
   "source": [
    "df_third_class_female = df_third_class.query('sex == \"female\"')\n",
    "third_class_female = df_third_class_female['sex'].count()\n",
    "df_third_class_survived_female = df_third_class_survived.query('sex == \"female\"')\n",
    "third_class_survived_female = df_third_class_survived_female['sex'].count()\n",
    "\n",
    "print(\"Mulheres na terceira classe: {}\\nMulheres sobreviventes terceira na classe: {}\".format(third_class_female, third_class_survived_female))"
   ]
  },
  {
   "cell_type": "code",
   "execution_count": 151,
   "metadata": {},
   "outputs": [
    {
     "data": {
      "image/png": "[encoded data removed]",
      "text/plain": [
       "<Figure size 720x360 with 1 Axes>"
      ]
     },
     "metadata": {},
     "output_type": "display_data"
    }
   ],
   "source": [
    "bar_one = [first_class_male, second_class_male, third_class_male]\n",
    "bar_two = [first_class_survived_male, second_class_survived_male, third_class_survived_male]\n",
    "xticks_labels = ['1º Classe', '2º Classe', '3º Classe']\n",
    "plot_bar(bar_one, bar_two, 'Total', 'Sobreviventes', xticks_labels, 'Homens - Classe x Sobrevivência', 'Pessoas')"
   ]
  },
  {
   "cell_type": "code",
   "execution_count": 152,
   "metadata": {},
   "outputs": [
    {
     "data": {
      "image/png": "[encoded data removed]",
      "text/plain": [
       "<Figure size 720x360 with 1 Axes>"
      ]
     },
     "metadata": {},
     "output_type": "display_data"
    }
   ],
   "source": [
    "bar_one = [first_class_female, second_class_female, third_class_female]\n",
    "bar_two = [first_class_survived_female, second_class_survived_female, third_class_survived_female]\n",
    "xticks_labels = ['1º Classe', '2º Classe', '3º Classe']\n",
    "plot_bar(bar_one, bar_two, 'Total', 'Sobreviventes', xticks_labels, 'Mulheres - Classe x Sobrevivência', 'Pessoas')"
   ]
  },
  {
   "cell_type": "markdown",
   "metadata": {},
   "source": [
    "**R- Como podemos perceber pelo primeiro gráfico desta seção a taxa de sobrevivência dos homens é baixa mesmo na primeira classe, mas ainda assim obedece a regra de que quanto maior a classe maior a taxa de sobrevivência. Jás as mulheres das primeira e segunda classe se aproximaram de 100% de sobrevivência.**"
   ]
  },
  {
   "cell_type": "markdown",
   "metadata": {},
   "source": [
    "### Há relação entre Idade x Sobrevivência?"
   ]
  },
  {
   "cell_type": "code",
   "execution_count": 153,
   "metadata": {},
   "outputs": [
    {
     "name": "stdout",
     "output_type": "stream",
     "text": [
      "Pessoas abaixo de 10 anos: 64\n",
      "Pessoas abaixo de 10 anos que sobreviveram: 38\n",
      "Pessoas entre 10 e 20 anos: 115\n",
      "Pessoas entre 10 e 20 anos que sobreviveram: 44\n",
      "Pessoas entre 20 e 50 anos: 470\n",
      "Pessoas entre 20 e 50 anos que sobreviveram: 185\n",
      "Pessoas acima de 50 anos: 73\n",
      "Pessoas acima de 50 anos que sobreviveram: 26\n"
     ]
    }
   ],
   "source": [
    "df_below_ten = df.query('age <= 10')\n",
    "below_ten = df_below_ten['age'].count()\n",
    "df_btw_ten_twenty = df.query('age > 10 and age <= 20')\n",
    "btw_ten_twenty = df_btw_ten_twenty['age'].count()\n",
    "df_btw_twenty_fifty = df.query('age > 20 and age <= 50')\n",
    "btw_twenty_fifty = df_btw_twenty_fifty['age'].count()\n",
    "df_above_fifty = df.query('age >= 50')\n",
    "above_fifty = df_above_fifty['age'].count()\n",
    "\n",
    "df_below_ten_survived = df_below_ten.query('survived == 1')\n",
    "below_ten_survived = df_below_ten_survived['age'].count()\n",
    "df_btw_ten_twenty_survived = df_btw_ten_twenty.query('survived == 1')\n",
    "btw_ten_twenty_survived = df_btw_ten_twenty_survived['age'].count()\n",
    "df_btw_twenty_fifty_survived = df_btw_twenty_fifty.query('survived == 1')\n",
    "btw_twenty_fifty_survived = df_btw_twenty_fifty_survived['age'].count()\n",
    "df_above_fifty_survived = df_above_fifty.query('survived == 1')\n",
    "above_fifty_survived = df_above_fifty_survived['age'].count()\n",
    "\n",
    "print(\"Pessoas abaixo de 10 anos: {}\\nPessoas abaixo de 10 anos que sobreviveram: {}\".format(below_ten, below_ten_survived))\n",
    "print(\"Pessoas entre 10 e 20 anos: {}\\nPessoas entre 10 e 20 anos que sobreviveram: {}\".format(btw_ten_twenty, btw_ten_twenty_survived))\n",
    "print(\"Pessoas entre 20 e 50 anos: {}\\nPessoas entre 20 e 50 anos que sobreviveram: {}\".format(btw_twenty_fifty, btw_twenty_fifty_survived))\n",
    "print(\"Pessoas acima de 50 anos: {}\\nPessoas acima de 50 anos que sobreviveram: {}\".format(above_fifty, above_fifty_survived))"
   ]
  },
  {
   "cell_type": "code",
   "execution_count": 154,
   "metadata": {},
   "outputs": [
    {
     "data": {
      "image/png": "[encoded data removed]",
      "text/plain": [
       "<Figure size 720x360 with 1 Axes>"
      ]
     },
     "metadata": {},
     "output_type": "display_data"
    }
   ],
   "source": [
    "bar_one = [below_ten, btw_ten_twenty, btw_twenty_fifty, above_fifty]\n",
    "bar_two = [below_ten_survived, btw_ten_twenty_survived, btw_twenty_fifty_survived, above_fifty_survived]\n",
    "xticks_labels = ['x<=10', '10<x<=20', '20<x<=50', 'x>50']\n",
    "plot_bar(bar_one, bar_two, 'Total', 'Sobreviventes', xticks_labels, 'Idade x Sobrevivência', 'Pessoas')"
   ]
  },
  {
   "cell_type": "code",
   "execution_count": 155,
   "metadata": {},
   "outputs": [],
   "source": [
    "below_ten_died = df_below_ten.query('survived == 0')['age'].count()\n",
    "btw_ten_twenty_died = df_btw_ten_twenty.query('survived == 0')['age'].count()\n",
    "btw_twenty_fifty_died = df_btw_twenty_fifty.query('survived == 0')['age'].count()\n",
    "above_fifty_died = df_above_fifty.query('survived == 0')['age'].count()"
   ]
  },
  {
   "cell_type": "code",
   "execution_count": 156,
   "metadata": {},
   "outputs": [
    {
     "data": {
      "image/png": "[encoded data removed]",
      "text/plain": [
       "<Figure size 720x360 with 1 Axes>"
      ]
     },
     "metadata": {},
     "output_type": "display_data"
    }
   ],
   "source": [
    "line = [below_ten_died, btw_ten_twenty_died, btw_twenty_fifty_died, above_fifty_died]\n",
    "xticks = ['x<=10', '10<x<=20', '20<x<=50', 'x>50']\n",
    "plot_line(line, xticks, 'Mortes x Idade', 'Pessoas')"
   ]
  },
  {
   "cell_type": "markdown",
   "metadata": {},
   "source": [
    "**R- Foram separados grupos de pessoas com idades abaixo de 10 anos, pessoas entre 10 e 20 anos, pessoas entre 20 e 50 anos e pesoas acima de 50 anos. As crianças abaixo de 10 anos tinham a maior chance de sobrevivência, como vemos no gráfico Idade x Sobrevivência, e podemos notar que o número de mortes aumenta drasticamente no grupo de pessoas entre 20 e 50 anos de acordo com o gráfico Mortes x Idades**"
   ]
  },
  {
   "cell_type": "markdown",
   "metadata": {},
   "source": [
    "### Qual a relação entre Idade, Sobrevivência e Sexo?"
   ]
  },
  {
   "cell_type": "code",
   "execution_count": 157,
   "metadata": {},
   "outputs": [],
   "source": [
    "below_ten_male = df_below_ten.query('sex == \"male\"')['age'].count()\n",
    "btw_ten_twenty_male = df_btw_ten_twenty.query('sex == \"male\"')['age'].count()\n",
    "btw_twenty_fifty_male = df_btw_twenty_fifty.query('sex == \"male\"')['age'].count()\n",
    "above_fifty_male = df_above_fifty.query('sex == \"male\"')['age'].count()\n",
    "below_ten_female = df_below_ten.query('sex == \"female\"')['age'].count()\n",
    "btw_ten_twenty_female = df_btw_ten_twenty.query('sex == \"female\"')['age'].count()\n",
    "btw_twenty_fifty_female = df_btw_twenty_fifty.query('sex == \"female\"')['age'].count()\n",
    "above_fifty_female = df_above_fifty.query('sex == \"female\"')['age'].count()\n",
    "\n",
    "below_ten_male_survived = df_below_ten_survived.query('sex == \"male\"')['age'].count()\n",
    "btw_ten_twenty_male_survived = df_btw_ten_twenty_survived.query('sex == \"male\"')['age'].count()\n",
    "btw_twenty_fifty_male_survived = df_btw_twenty_fifty_survived.query('sex == \"male\"')['age'].count()\n",
    "above_fifty_male_survived = df_above_fifty_survived.query('sex == \"male\"')['age'].count()\n",
    "below_ten_female_survived = df_below_ten_survived.query('sex == \"female\"')['age'].count()\n",
    "btw_ten_twenty_female_survived = df_btw_ten_twenty_survived.query('sex == \"female\"')['age'].count()\n",
    "btw_twenty_fifty_female_survived = df_btw_twenty_fifty_survived.query('sex == \"female\"')['age'].count()\n",
    "above_fifty_female_survived = df_above_fifty_survived.query('sex == \"female\"')['age'].count()"
   ]
  },
  {
   "cell_type": "code",
   "execution_count": 158,
   "metadata": {},
   "outputs": [
    {
     "name": "stdout",
     "output_type": "stream",
     "text": [
      "Homens abaixo dos 10 anos: 33\n",
      "Homens abaixo dos 10 anos que sobreviveram: 19\n",
      "Homens entre 10 e 20 anos: 69\n",
      "Homens entre 10 e 20 anos que sobreviveram: 10\n",
      "Homens entre 20 e 50 anos: 304\n",
      "Homens entre 20 e 50 anos que sobreviveram: 58\n",
      "Homens acima dos 50 anos: 52\n",
      "Homens acima dos 50 anos que sobreviveram: 7\n"
     ]
    }
   ],
   "source": [
    "print(\"Homens abaixo dos 10 anos: {}\\nHomens abaixo dos 10 anos que sobreviveram: {}\".format(below_ten_male, below_ten_male_survived))\n",
    "print(\"Homens entre 10 e 20 anos: {}\\nHomens entre 10 e 20 anos que sobreviveram: {}\".format(btw_ten_twenty_male, btw_ten_twenty_male_survived))\n",
    "print(\"Homens entre 20 e 50 anos: {}\\nHomens entre 20 e 50 anos que sobreviveram: {}\".format(btw_twenty_fifty_male, btw_twenty_fifty_male_survived))\n",
    "print(\"Homens acima dos 50 anos: {}\\nHomens acima dos 50 anos que sobreviveram: {}\".format(above_fifty_male, above_fifty_male_survived))"
   ]
  },
  {
   "cell_type": "code",
   "execution_count": 159,
   "metadata": {},
   "outputs": [
    {
     "data": {
      "image/png": "[encoded data removed]",
      "text/plain": [
       "<Figure size 720x360 with 1 Axes>"
      ]
     },
     "metadata": {},
     "output_type": "display_data"
    }
   ],
   "source": [
    "bar_one = [below_ten_male, btw_ten_twenty_male, btw_twenty_fifty_male, above_fifty_male]\n",
    "bar_two = [below_ten_male_survived, btw_ten_twenty_male_survived, btw_twenty_fifty_male_survived, above_fifty_male_survived]\n",
    "xticks_labels = ['x<=10', '10<x<=20', '20<x<=50', 'x>50']\n",
    "plot_bar(bar_one, bar_two, 'Total', 'Sobreviventes', xticks_labels, 'Homens - Idade x Sobrevivência', 'Pessoas')"
   ]
  },
  {
   "cell_type": "code",
   "execution_count": 160,
   "metadata": {},
   "outputs": [
    {
     "name": "stdout",
     "output_type": "stream",
     "text": [
      "Mulheres abaixo dos 10 anos: 31\n",
      "Mulheres abaixo dos 10 anos que sobreviveram: 19\n",
      "Mulheres entre 10 e 20 anos: 46\n",
      "Mulheres entre 10 e 20 anos que sobreviveram: 34\n",
      "Mulheres entre 20 e 50 anos: 166\n",
      "Mulheres entre 20 e 50 anos que sobreviveram: 127\n",
      "Mulheres acima dos 50 anos: 21\n",
      "Mulheres acima dos 50 anos que sobreviveram: 19\n"
     ]
    }
   ],
   "source": [
    "print(\"Mulheres abaixo dos 10 anos: {}\\nMulheres abaixo dos 10 anos que sobreviveram: {}\".format(below_ten_female, below_ten_female_survived))\n",
    "print(\"Mulheres entre 10 e 20 anos: {}\\nMulheres entre 10 e 20 anos que sobreviveram: {}\".format(btw_ten_twenty_female, btw_ten_twenty_female_survived))\n",
    "print(\"Mulheres entre 20 e 50 anos: {}\\nMulheres entre 20 e 50 anos que sobreviveram: {}\".format(btw_twenty_fifty_female, btw_twenty_fifty_female_survived))\n",
    "print(\"Mulheres acima dos 50 anos: {}\\nMulheres acima dos 50 anos que sobreviveram: {}\".format(above_fifty_female, above_fifty_female_survived))"
   ]
  },
  {
   "cell_type": "code",
   "execution_count": 161,
   "metadata": {},
   "outputs": [
    {
     "data": {
      "image/png": "[encoded data removed]",
      "text/plain": [
       "<Figure size 720x360 with 1 Axes>"
      ]
     },
     "metadata": {},
     "output_type": "display_data"
    }
   ],
   "source": [
    "bar_one = [below_ten_female, btw_ten_twenty_female, btw_twenty_fifty_female, above_fifty_female]\n",
    "bar_two = [below_ten_female_survived, btw_ten_twenty_female_survived, btw_twenty_fifty_female_survived, above_fifty_female_survived]\n",
    "xticks_labels = ['x<=10', '10<x<=20', '20<x<=50', 'x>50']\n",
    "plot_bar(bar_one, bar_two, 'Total', 'Sobreviventes', xticks_labels, 'Mulheres - Idade x Sobrevivência', 'Pessoas')"
   ]
  },
  {
   "cell_type": "markdown",
   "metadata": {},
   "source": [
    "**R- Os grupos de meninos e meninas abaixo de 10 anos tiveram uma taxa de sobrevivência semelhantes, como percebemos nos dois gráficos dessa seção. Mulheres acima de 50 anos tiveram a maior taxa de sobrevivência**"
   ]
  },
  {
   "cell_type": "markdown",
   "metadata": {},
   "source": [
    "### O lugar onde as pessoas embarcaram tem alguma influência?"
   ]
  },
  {
   "cell_type": "code",
   "execution_count": 162,
   "metadata": {},
   "outputs": [
    {
     "name": "stdout",
     "output_type": "stream",
     "text": [
      "Homens embarcados em Cherbourg: 69\n",
      "Homens embarcados em Cherbourg que sobreviveram: 24\n",
      "Mulheres embarcados em Cherbourg: 61\n",
      "Mulheres embarcados em Cherbourg que sobreviveram: 55\n",
      "Homens embarcados em Queenstown: 16\n",
      "Homens embarcados em Queenstown que sobreviveram: 1\n",
      "Mulheres embarcados em Queenstown: 12\n",
      "Mulheres embarcados em Queenstown que sobreviveram: 7\n",
      "Homens embarcados em Southampton: 368\n",
      "Homens embarcados em Southampton que sobreviveram: 68\n",
      "Mulheres embarcados em Southampton: 186\n",
      "Mulheres embarcados em Southampton que sobreviveram: 133\n"
     ]
    }
   ],
   "source": [
    "embarked_c_male = df.query('embarked == \"C\" and sex == \"male\"')['embarked'].count()\n",
    "embarked_q_male = df.query('embarked == \"Q\" and sex == \"male\"')['embarked'].count()\n",
    "embarked_s_male = df.query('embarked == \"S\" and sex == \"male\"')['embarked'].count()\n",
    "embarked_c_female = df.query('embarked == \"C\" and sex == \"female\"')['embarked'].count()\n",
    "embarked_q_female = df.query('embarked == \"Q\" and sex == \"female\"')['embarked'].count()\n",
    "embarked_s_female = df.query('embarked == \"S\" and sex == \"female\"')['embarked'].count()\n",
    "embarked_c_male_survived = df.query('survived == 1 and embarked == \"C\" and sex == \"male\"')['embarked'].count()\n",
    "embarked_q_male_survived = df.query('survived == 1 and embarked == \"Q\" and sex == \"male\"')['embarked'].count()\n",
    "embarked_s_male_survived = df.query('survived == 1 and embarked == \"S\" and sex == \"male\"')['embarked'].count()\n",
    "embarked_c_female_survived = df.query('survived == 1 and embarked == \"C\" and sex == \"female\"')['embarked'].count()\n",
    "embarked_q_female_survived = df.query('survived == 1 and embarked == \"Q\" and sex == \"female\"')['embarked'].count()\n",
    "embarked_s_female_survived = df.query('survived == 1 and embarked == \"S\" and sex == \"female\"')['embarked'].count()\n",
    "\n",
    "print(\"Homens embarcados em Cherbourg: {}\\nHomens embarcados em Cherbourg que sobreviveram: {}\".format(embarked_c_male, embarked_c_male_survived))\n",
    "print(\"Mulheres embarcados em Cherbourg: {}\\nMulheres embarcados em Cherbourg que sobreviveram: {}\".format(embarked_c_female, embarked_c_female_survived))\n",
    "print(\"Homens embarcados em Queenstown: {}\\nHomens embarcados em Queenstown que sobreviveram: {}\".format(embarked_q_male, embarked_q_male_survived))\n",
    "print(\"Mulheres embarcados em Queenstown: {}\\nMulheres embarcados em Queenstown que sobreviveram: {}\".format(embarked_q_female, embarked_q_female_survived))\n",
    "print(\"Homens embarcados em Southampton: {}\\nHomens embarcados em Southampton que sobreviveram: {}\".format(embarked_s_male, embarked_s_male_survived))\n",
    "print(\"Mulheres embarcados em Southampton: {}\\nMulheres embarcados em Southampton que sobreviveram: {}\".format(embarked_s_female, embarked_s_female_survived))"
   ]
  },
  {
   "cell_type": "code",
   "execution_count": 163,
   "metadata": {},
   "outputs": [
    {
     "data": {
      "image/png": "[encoded data removed]",
      "text/plain": [
       "<Figure size 720x360 with 1 Axes>"
      ]
     },
     "metadata": {},
     "output_type": "display_data"
    }
   ],
   "source": [
    "bar_one = [embarked_c_male, embarked_q_male, embarked_s_male]\n",
    "bar_two = [embarked_c_male_survived, embarked_q_male_survived, embarked_s_male_survived]\n",
    "xticks_labels = ['Cherbourg', 'Queenstown', 'Southampton']\n",
    "plot_bar(bar_one, bar_two, 'Total', 'Sobreviventes', xticks_labels, 'Homens - Embarcados x Sobrevivência', 'Pessoas')"
   ]
  },
  {
   "cell_type": "code",
   "execution_count": 164,
   "metadata": {},
   "outputs": [
    {
     "data": {
      "image/png": "[encoded data removed]",
      "text/plain": [
       "<Figure size 720x360 with 1 Axes>"
      ]
     },
     "metadata": {},
     "output_type": "display_data"
    }
   ],
   "source": [
    "bar_one = [embarked_c_female, embarked_q_female, embarked_s_female]\n",
    "bar_two = [embarked_c_female_survived, embarked_q_female_survived, embarked_s_female_survived]\n",
    "xticks_labels = ['Cherbourg', 'Queenstown', 'Southampton']\n",
    "plot_bar(bar_one, bar_two, 'Total', 'Sobreviventes', xticks_labels, 'Mulheres - Embarcados x Sobrevivência', 'Pessoas')"
   ]
  },
  {
   "cell_type": "markdown",
   "metadata": {},
   "source": [
    "**R- A cidade de Southampton foi o local de embarque da maioria das pessoas. Apesar de não ser muito perceptivel nos gráficos a cidade de Cherbourg teve a maior taxa de sobrevivência.**"
   ]
  },
  {
   "cell_type": "markdown",
   "metadata": {},
   "source": [
    "### Qual a relação entre Tarifa e Sobrevivência?"
   ]
  },
  {
   "cell_type": "code",
   "execution_count": 165,
   "metadata": {},
   "outputs": [
    {
     "name": "stdout",
     "output_type": "stream",
     "text": [
      "Pessoas que pagaram abaixo de 1.0: 7\n",
      "Pessoas que pagaram abaixo de 1.0 e sobreviveram: 1\n",
      "Pessoas que pagaram entre de 1.0 e 10.0: 229\n",
      "Pessoas que pagaram entre de 1.0 e 10.0 e sobreviveram: 46\n",
      "Pessoas que pagaram entre de 10.0 e 20.0: 155\n",
      "Pessoas que pagaram entre de 10.0 e 20.0 e sobreviveram: 66\n",
      "Pessoas que pagaram entre de 20.0 e 40.0: 171\n",
      "Pessoas que pagaram entre de 20.0 e 40.0 e sobreviveram: 75\n",
      "Pessoas que pagaram entre de 40.0 e 80.0: 83\n",
      "Pessoas que pagaram entre de 40.0 e 80.0 e sobreviveram: 48\n",
      "Pessoas que pagaram acima de 80.0: 67\n",
      "Pessoas que pagaram acima de 80.0 e sobreviveram: 52\n"
     ]
    }
   ],
   "source": [
    "below_one = df.query('fare <= 1.0')['fare'].count()\n",
    "btw_one_ten = df.query('fare > 1.0 and fare <= 10.0')['fare'].count()\n",
    "btw_ten_twenty = df.query('fare > 10.0 and fare <= 20.0')['fare'].count()\n",
    "btw_twenty_forty = df.query('fare > 20.0 and fare <= 40.0')['fare'].count()\n",
    "btw_forty_eighty = df.query('fare > 40.0 and fare <= 80.0')['fare'].count()\n",
    "above_eighty = df.query('fare > 80.0')['fare'].count()\n",
    "\n",
    "below_one_survived = df.query('survived == 1 and fare <= 1.0')['fare'].count()\n",
    "btw_one_ten_survived = df.query('survived == 1 and fare > 1.0 and fare <= 10.0')['fare'].count()\n",
    "btw_ten_twenty_survived = df.query('survived == 1 and fare > 10.0 and fare <= 20.0')['fare'].count()\n",
    "btw_twenty_forty_survived = df.query('survived == 1 and fare > 20.0 and fare <= 40.0')['fare'].count()\n",
    "btw_forty_eighty_survived = df.query('survived == 1 and fare > 40.0 and fare <= 80.0')['fare'].count()\n",
    "above_eighty_survived = df.query('survived == 1 and fare > 80.0')['fare'].count()\n",
    "\n",
    "print(\"Pessoas que pagaram abaixo de 1.0: {}\\nPessoas que pagaram abaixo de 1.0 e sobreviveram: {}\".format(below_one, below_one_survived))\n",
    "print(\"Pessoas que pagaram entre de 1.0 e 10.0: {}\\nPessoas que pagaram entre de 1.0 e 10.0 e sobreviveram: {}\".format(btw_one_ten, btw_one_ten_survived))\n",
    "print(\"Pessoas que pagaram entre de 10.0 e 20.0: {}\\nPessoas que pagaram entre de 10.0 e 20.0 e sobreviveram: {}\".format(btw_ten_twenty, btw_ten_twenty_survived))\n",
    "print(\"Pessoas que pagaram entre de 20.0 e 40.0: {}\\nPessoas que pagaram entre de 20.0 e 40.0 e sobreviveram: {}\".format(btw_twenty_forty, btw_twenty_forty_survived))\n",
    "print(\"Pessoas que pagaram entre de 40.0 e 80.0: {}\\nPessoas que pagaram entre de 40.0 e 80.0 e sobreviveram: {}\".format(btw_forty_eighty, btw_forty_eighty_survived))\n",
    "print(\"Pessoas que pagaram acima de 80.0: {}\\nPessoas que pagaram acima de 80.0 e sobreviveram: {}\".format(above_eighty, above_eighty_survived))"
   ]
  },
  {
   "cell_type": "code",
   "execution_count": 166,
   "metadata": {},
   "outputs": [
    {
     "data": {
      "image/png": "[encoded data removed]",
      "text/plain": [
       "<Figure size 720x360 with 1 Axes>"
      ]
     },
     "metadata": {},
     "output_type": "display_data"
    }
   ],
   "source": [
    "bar_one = [below_one, btw_one_ten, btw_ten_twenty, btw_twenty_forty, btw_forty_eighty, above_eighty]\n",
    "bar_two = [below_one_survived, btw_one_ten_survived, btw_ten_twenty_survived, btw_twenty_forty_survived, btw_forty_eighty_survived, above_eighty_survived]\n",
    "xticks_labels = ['x<=1.0', '1.0<x<=10.0', '10.0<x<=20.0', '20.0<x<=40.0', '40.0<x<=80.0', 'x>80']\n",
    "plot_bar(bar_one, bar_two, 'Total', 'Sobreviventes', xticks_labels, 'Tarifa x Sobrevivência', 'Pessoas')"
   ]
  },
  {
   "cell_type": "markdown",
   "metadata": {},
   "source": [
    "**R- Pessoas que pagaram abaixo de 10.0 tiveram a maior taxa de mortalidade e as pessoas que pagaram acima de 40.0 a menor, pessoas que pagaram entre 10.0 e 20.0 e 20.0 e 40.0 tiveram taxas de sobrevivência semelhantes, como notamos no gráfico Taxa x Sobrevivência.**"
   ]
  },
  {
   "cell_type": "markdown",
   "metadata": {},
   "source": [
    "## Conclusões"
   ]
  },
  {
   "cell_type": "markdown",
   "metadata": {},
   "source": [
    "**Mulheres de primeira classe formam o grupo que teve a maior taxa sobrevivência no Titanic. Além delas também tiveram taxas elevadas de sobrevivência crianças abaixo de 10 anos de ambos os sexos e e mulheres acima de 50 anos. Os homens da terceira classe formam o grupo que teve menor taxa de sobrevivência. Pessoas de ambos os sexos com idade ente 20 e 50 anos tiveram uma taxa de óbito elevada.**"
   ]
  },
  {
   "cell_type": "markdown",
   "metadata": {},
   "source": [
    "### Limitações"
   ]
  },
  {
   "cell_type": "markdown",
   "metadata": {},
   "source": [
    "**Apenas 79% das amostras do conjunto de dados titanic-data-6 foram analisadas, devido a remoção dos registros que apresentaram valores nulos nas colunas Age e Embarked. Essas colunas tinham informações valiosas e por isso não foram desprezadas, como foi feito com a coluna Cabin. Nelas foram encontradas informações como qual faxa etária e qual cidade de embarque tiveram a maior taxa de sobrevivência.**"
   ]
  }
 ],
 "metadata": {
  "kernelspec": {
   "display_name": "Python 3",
   "language": "python",
   "name": "python3"
  },
  "language_info": {
   "codemirror_mode": {
    "name": "ipython",
    "version": 3
   },
   "file_extension": ".py",
   "mimetype": "text/x-python",
   "name": "python",
   "nbconvert_exporter": "python",
   "pygments_lexer": "ipython3",
   "version": "3.6.6"
  }
 },
 "nbformat": 4,
 "nbformat_minor": 2
}
